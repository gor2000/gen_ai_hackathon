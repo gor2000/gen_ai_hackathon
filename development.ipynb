{
 "nbformat": 4,
 "nbformat_minor": 0,
 "metadata": {
  "colab": {
   "provenance": []
  },
  "kernelspec": {
   "name": "python3",
   "language": "python",
   "display_name": "Python 3 (ipykernel)"
  },
  "language_info": {
   "name": "python"
  }
 },
 "cells": [
  {
   "cell_type": "code",
   "execution_count": 1,
   "metadata": {
    "id": "socn-zs1OkN2",
    "ExecuteTime": {
     "end_time": "2024-01-14T10:26:18.050383Z",
     "start_time": "2024-01-14T10:26:17.885311Z"
    }
   },
   "outputs": [],
   "source": [
    "from newspaper import Article"
   ]
  },
  {
   "cell_type": "code",
   "source": [
    "cnn_microsoft = 'https://edition.cnn.com/2024/01/12/business/apple-microsoft-most-valuable-publicly-traded-company/index.html'\n",
    "fox = 'http://fox13now.com/2013/12/30/new-year-new-laws-obamacare-pot-guns-and-drones/'"
   ],
   "metadata": {
    "id": "SpQexBFmKqcM",
    "ExecuteTime": {
     "end_time": "2024-01-14T10:26:20.278323Z",
     "start_time": "2024-01-14T10:26:20.269890Z"
    }
   },
   "execution_count": 2,
   "outputs": []
  },
  {
   "cell_type": "code",
   "source": [
    "url = cnn_microsoft\n",
    "article = Article(url)"
   ],
   "metadata": {
    "id": "Bf0KJXTRO9CT",
    "ExecuteTime": {
     "end_time": "2024-01-14T10:26:21.820998Z",
     "start_time": "2024-01-14T10:26:21.810835Z"
    }
   },
   "execution_count": 3,
   "outputs": []
  },
  {
   "cell_type": "code",
   "source": [
    "article.download()"
   ],
   "metadata": {
    "id": "MhOdvhp-PQhZ",
    "ExecuteTime": {
     "end_time": "2024-01-14T10:26:25.147979Z",
     "start_time": "2024-01-14T10:26:24.753953Z"
    }
   },
   "execution_count": 4,
   "outputs": []
  },
  {
   "cell_type": "code",
   "source": [
    "article.parse()"
   ],
   "metadata": {
    "id": "trNaBFIXPYWL",
    "ExecuteTime": {
     "end_time": "2024-01-14T10:26:27.137667Z",
     "start_time": "2024-01-14T10:26:26.889811Z"
    }
   },
   "execution_count": 5,
   "outputs": []
  },
  {
   "cell_type": "code",
   "source": [
    "article.text"
   ],
   "metadata": {
    "colab": {
     "base_uri": "https://localhost:8080/",
     "height": 127
    },
    "id": "9RwWslLwPajm",
    "outputId": "2cf2ef5a-e896-4a4d-f2a1-1619d4dce3b7",
    "ExecuteTime": {
     "end_time": "2024-01-14T10:26:28.795810Z",
     "start_time": "2024-01-14T10:26:28.776550Z"
    }
   },
   "execution_count": 6,
   "outputs": [
    {
     "data": {
      "text/plain": "'New York CNN —\\n\\nMicrosoft is back on top.\\n\\nAfter trailing behind Apple for the majority of the past decade, Microsoft is the world’s most valuable publicly traded company as of market close on Friday.\\n\\nThe tech giant’s stock (MSFT) closed at $388.47 a share on Friday, giving it a market capitalization of $2.89 trillion. Apple’s stock (AAPL) closed at $185.92 a share, for a market capitalization of $2.87 trillion.\\n\\nMarket capitalization — or market cap — is the total value of all the shares of a publicly traded company. In other words, it’s the market value of the company.\\n\\nMicrosoft’s rise to the top comes after the company had a stellar year thanks to its success with generative artificial intelligence.\\n\\nIn 2023, the company’s CEO, Satya Nadella, made a multi-billion dollar investment in AI, including commercializing and adding AI tools like ChatGPT into its suite of products before rivals.\\n\\nHe even strengthened Microsoft’s ties to ChatGPT maker OpenAI, a major pioneer in the field of artificial intelligence, during a board and leadership upheaval at the smaller company late last year.\\n\\nApple, meanwhile, is facing a barrage of problems. iPhone sales are slowing in part because of the Chinese government’s reported efforts to restrict purchases (Beijing denies it has put any restrictions in place). That’s helped Chinese smartphone maker Huawei to gain market share.\\n\\nApple also recently contended with a brief ban from selling the latest Apple Watch models in the United States.\\n\\nMicrosoft declined to comment, while Apple did not return CNN’s request for a comment.'"
     },
     "execution_count": 6,
     "metadata": {},
     "output_type": "execute_result"
    }
   ]
  },
  {
   "cell_type": "code",
   "source": [
    "from google.colab import drive\n",
    "drive.mount('/content/drive')"
   ],
   "metadata": {
    "colab": {
     "base_uri": "https://localhost:8080/"
    },
    "id": "xNWuMeJBLJ4-",
    "outputId": "7ba10dba-601c-44ed-be0b-86402ebbc807"
   },
   "execution_count": 95,
   "outputs": [
    {
     "output_type": "stream",
     "name": "stdout",
     "text": [
      "Drive already mounted at /content/drive; to attempt to forcibly remount, call drive.mount(\"/content/drive\", force_remount=True).\n"
     ]
    }
   ]
  },
  {
   "cell_type": "code",
   "source": [
    "# Define the paths to your files\n",
    "api_key_path = 'files/api/api_key.txt'\n",
    "api_org_path = 'files/api/api_org.txt'\n",
    "\n",
    "# Read the API key\n",
    "with open(api_key_path, 'r') as file:\n",
    "    api_key = file.read().strip()\n",
    "\n",
    "# Read the API organization key\n",
    "with open(api_org_path, 'r') as file:\n",
    "    api_key2 = file.read().strip()"
   ],
   "metadata": {
    "id": "fVNVMZyZLf04",
    "ExecuteTime": {
     "end_time": "2024-01-14T10:27:07.257665Z",
     "start_time": "2024-01-14T10:27:07.250543Z"
    }
   },
   "execution_count": 7,
   "outputs": []
  },
  {
   "cell_type": "code",
   "source": [
    "import os\n",
    "from openai import OpenAI\n",
    "myclient = OpenAI(api_key = api_key, organization=api_key2)"
   ],
   "metadata": {
    "id": "vCXitoTkLieG",
    "ExecuteTime": {
     "end_time": "2024-01-14T10:27:10.474042Z",
     "start_time": "2024-01-14T10:27:09.970214Z"
    }
   },
   "execution_count": 8,
   "outputs": []
  },
  {
   "cell_type": "code",
   "source": [
    "response = myclient.chat.completions.create(\n",
    "  model=\"gpt-3.5-turbo\",\n",
    "  messages=[\n",
    "    {\"role\": \"system\", \"content\": \"You are a summary tool and you need to create a detail summary between 50 to 100 words. \"\\\n",
    "    \"You have to give 3 different summaries with exactly this format:\"\\\n",
    "     \"summary_1, summary_2:, summary_3: \"},\n",
    "    {\"role\": \"user\", \"content\": f\"Create a summary of this text{article.text}\"}\n",
    "  ]\n",
    ")\n",
    "print(response.choices[0].message.content)"
   ],
   "metadata": {
    "colab": {
     "base_uri": "https://localhost:8080/"
    },
    "id": "xjZMroxALuKS",
    "outputId": "7ed5328a-125e-4515-eab3-a67bf39d122e",
    "ExecuteTime": {
     "end_time": "2024-01-14T10:27:33.183259Z",
     "start_time": "2024-01-14T10:27:30.232972Z"
    }
   },
   "execution_count": 10,
   "outputs": [
    {
     "name": "stdout",
     "output_type": "stream",
     "text": [
      "summary_1: Microsoft has overtaken Apple to become the world's most valuable publicly traded company. With a market capitalization of $2.89 trillion, Microsoft's success can be attributed to its investment in artificial intelligence and the commercialization of AI tools like ChatGPT.\n",
      "\n",
      "summary_2: Microsoft's stock closed at $388.47 a share on Friday, giving it a market capitalization of $2.89 trillion, surpassing Apple. This shift in rankings is attributable to Microsoft's success in the field of artificial intelligence, driven by CEO Satya Nadella's multi-billion dollar investment and collaboration with OpenAI.\n",
      "\n",
      "summary_3: While Microsoft's stock thrived, Apple faced a series of setbacks, including slowing iPhone sales and a temporary ban on selling the latest Apple Watch models in the United States. Apple's stock closed at $185.92 a share, with a market capitalization of $2.87 trillion, falling behind Microsoft in the race for the most valuable publicly traded company.\n"
     ]
    }
   ]
  },
  {
   "cell_type": "code",
   "source": [
    "summaries_raw = response.choices[0].message.content"
   ],
   "metadata": {
    "id": "wnvzLgLCQuB5"
   },
   "execution_count": 99,
   "outputs": []
  },
  {
   "cell_type": "code",
   "source": [
    "import re\n",
    "\n",
    "def generate_summary_dict(text):\n",
    "    \"\"\"\n",
    "    Generates a dictionary of summaries from a given text.\n",
    "\n",
    "    Parameters:\n",
    "    text (str): A string containing summaries, each starting with 'summary_'.\n",
    "\n",
    "    Returns:\n",
    "    dict: A dictionary with each summary under a unique key.\n",
    "    \"\"\"\n",
    "    # Splitting the text into separate summaries using 'summary_' as a delimiter\n",
    "    split_summaries = re.split(r'summary_\\d+: ', text)[1:]\n",
    "\n",
    "    # Initializing an empty dictionary\n",
    "    summaries = {}\n",
    "\n",
    "    # Assigning summaries to the dictionary\n",
    "    for i, summary in enumerate(split_summaries):\n",
    "        key = f'summary_{i+1}'\n",
    "        summaries[key] = summary.strip()  # Remove leading/trailing whitespace\n",
    "\n",
    "    return summaries"
   ],
   "metadata": {
    "id": "ylMqs94vQrux"
   },
   "execution_count": 100,
   "outputs": []
  },
  {
   "cell_type": "code",
   "source": [
    "summaries_dict = generate_summary_dict(summaries_raw)\n",
    "print(summaries_dict['summary_1'])\n",
    "print(summaries_dict['summary_2'])\n",
    "print(summaries_dict['summary_3'])"
   ],
   "metadata": {
    "colab": {
     "base_uri": "https://localhost:8080/"
    },
    "id": "3J7c3ddDQ0wG",
    "outputId": "95f07f0b-10c9-4318-a877-94a43882ee0f"
   },
   "execution_count": 101,
   "outputs": [
    {
     "output_type": "stream",
     "name": "stdout",
     "text": [
      "Microsoft has surpassed Apple to become the world's most valuable publicly traded company. With a market capitalization of $2.89 trillion, Microsoft's success is attributed to its investments in generative artificial intelligence, including the integration of AI tools like ChatGPT into its suite of products.\n",
      "Microsoft's CEO, Satya Nadella, made a significant multi-billion dollar investment in artificial intelligence in 2023, positioning the company for success. This enabled Microsoft to strengthen its ties with OpenAI, a leading AI pioneer. On the other hand, Apple is facing challenges, such as slowing iPhone sales and restrictions from the Chinese government.\n",
      "Microsoft's stock price closed at $388.47 a share, giving it a market capitalization of $2.89 trillion, surpassing Apple as the world's most valuable publicly traded company. The company's success can be attributed to its investments in artificial intelligence, particularly in integrating AI tools like ChatGPT into its suite of products. In contrast, Apple is facing difficulties with slowing iPhone sales and restrictions imposed by the Chinese government.\n"
     ]
    }
   ]
  },
  {
   "cell_type": "code",
   "source": [
    "torriwebster = '/content/drive/MyDrive/BOOTCAMP/video/Download.mp4'\n",
    "tiffintech = \"/content/drive/MyDrive/BOOTCAMP/audio/tiffintech.mp3\""
   ],
   "metadata": {
    "id": "ZE0VElnDKXMG"
   },
   "execution_count": 102,
   "outputs": []
  },
  {
   "cell_type": "code",
   "source": [
    "# speech to text\n",
    "# this will take that voice file and turn it back to text\n",
    "\n",
    "\n",
    "audio_file = open(torriwebster, \"rb\")\n",
    "transcript = myclient.audio.transcriptions.create(\n",
    "  model=\"whisper-1\",\n",
    "  file=audio_file\n",
    ")\n",
    "print(transcript.text)"
   ],
   "metadata": {
    "colab": {
     "base_uri": "https://localhost:8080/"
    },
    "id": "kOaVfPiKQ8ty",
    "outputId": "244fc7cc-9c86-4893-fb7a-0de9e555a7ae",
    "ExecuteTime": {
     "end_time": "2024-01-14T11:15:56.835591Z",
     "start_time": "2024-01-14T11:15:56.384384Z"
    }
   },
   "execution_count": 11,
   "outputs": [
    {
     "ename": "NameError",
     "evalue": "name 'torriwebster' is not defined",
     "output_type": "error",
     "traceback": [
      "\u001B[0;31m---------------------------------------------------------------------------\u001B[0m",
      "\u001B[0;31mNameError\u001B[0m                                 Traceback (most recent call last)",
      "Cell \u001B[0;32mIn[11], line 5\u001B[0m\n\u001B[1;32m      1\u001B[0m \u001B[38;5;66;03m# speech to text\u001B[39;00m\n\u001B[1;32m      2\u001B[0m \u001B[38;5;66;03m# this will take that voice file and turn it back to text\u001B[39;00m\n\u001B[0;32m----> 5\u001B[0m audio_file \u001B[38;5;241m=\u001B[39m \u001B[38;5;28mopen\u001B[39m(\u001B[43mtorriwebster\u001B[49m, \u001B[38;5;124m\"\u001B[39m\u001B[38;5;124mrb\u001B[39m\u001B[38;5;124m\"\u001B[39m)\n\u001B[1;32m      6\u001B[0m transcript \u001B[38;5;241m=\u001B[39m myclient\u001B[38;5;241m.\u001B[39maudio\u001B[38;5;241m.\u001B[39mtranscriptions\u001B[38;5;241m.\u001B[39mcreate(\n\u001B[1;32m      7\u001B[0m   model\u001B[38;5;241m=\u001B[39m\u001B[38;5;124m\"\u001B[39m\u001B[38;5;124mwhisper-1\u001B[39m\u001B[38;5;124m\"\u001B[39m,\n\u001B[1;32m      8\u001B[0m   file\u001B[38;5;241m=\u001B[39maudio_file\n\u001B[1;32m      9\u001B[0m )\n\u001B[1;32m     10\u001B[0m \u001B[38;5;28mprint\u001B[39m(transcript\u001B[38;5;241m.\u001B[39mtext)\n",
      "\u001B[0;31mNameError\u001B[0m: name 'torriwebster' is not defined"
     ]
    }
   ]
  },
  {
   "cell_type": "code",
   "source": [
    "def generate_script(transcript_text, article_text, video_seconds):\n",
    "    prompt = f\"Generate 3 scripts based on the following inputs: \\n\\n\" \\\n",
    "             f\"Transcript Text: {transcript_text}\\n\" \\\n",
    "             f\"Article Summary: {article_text}\\n\" \\\n",
    "             f\"Video Duration: {video_seconds} seconds\\n\\n\" \\\n",
    "             \"The scripts should follow these guidelines: \" \\\n",
    "             \"1. Style Replication: Use language, sentence structure, and unique features from the transcript text. \" \\\n",
    "             \"2. Tone Emulation: Reflect the emotional tone of the transcript. \" \\\n",
    "             \"3. Creative Expansion: Add new ideas and narratives that align with the themes of the article summary. \" \\\n",
    "             \"4. Time Consideration: The content should be appropriate for the specified video duration. \" \\\n",
    "             \"5. Personality Reflection: Reflect the speaker's personality traits.\\n\\n\" \\\n",
    "             \"The format must be: * script_1:, * script_2:, * script_3\"\\\n",
    "             \"That's an example of how the format should be. Please include * just before script. It is mandatory and essential to have this exact format so I can work on it later.\" \\\n",
    "             \"* script_1: \"\\\n",
    "             \"* script_2: \" \\\n",
    "             \"* script_3: \"\n",
    "\n",
    "    response = myclient.chat.completions.create(\n",
    "      model=\"gpt-3.5-turbo\",\n",
    "      messages=[\n",
    "        {\"role\": \"system\", \"content\": prompt},\n",
    "        {\"role\": \"user\", \"content\": \"Please generate the scripts.\"}\n",
    "      ]\n",
    "    )\n",
    "    return response.choices[0].message.content\n"
   ],
   "metadata": {
    "id": "BanFQOXvkeg1"
   },
   "execution_count": 104,
   "outputs": []
  },
  {
   "cell_type": "code",
   "source": [
    "user_transcript = transcript.text\n",
    "article = summaries_dict['summary_1']\n",
    "duration = 30\n",
    "\n",
    "scripts = generate_script(user_transcript, article, duration)\n",
    "print(scripts)"
   ],
   "metadata": {
    "colab": {
     "base_uri": "https://localhost:8080/"
    },
    "id": "ocU-NSt1_t5x",
    "outputId": "05c31d2d-3295-454e-87d3-b58d8b6957be"
   },
   "execution_count": 105,
   "outputs": [
    {
     "output_type": "stream",
     "name": "stdout",
     "text": [
      "* script_1: \n",
      "Hey there, everyone! Welcome back to my channel. Today, I am beyond excited because the new Apple Watch Series 9 is finally here! And guess what? I got it in the stunning pink color. Trust me, I've been waiting for this moment forever. Let's unbox it together and compare it to the Apple Watch Series 8. But before we dive in, take a look at this new carbon-neutral band. It's absolutely beautiful and environmentally friendly. Let's go for the sport loop style unboxing, because you know, it's always chic. Alright, time to hook this baby up. Oh, and by the way, I'm also switching out my Series 8 for some variety. I mean, who doesn't love matching their watch with different outfits, right? And check out this sleek Nike sport band I got too. So, in my next video, let me know if you want me to compare the Apple Watch Series 8 with this fabulous Series 9. We've got a lot to talk about all these incredible upgrades!\n",
      "\n",
      "* script_2: \n",
      "Hey, hey, hey! What's up, my lovely viewers? I have some mind-blowing news to share with you. Drumroll, please! Microsoft has taken the throne from Apple and become the world's most valuable publicly traded company. Can you believe it? Their market capitalization is a whopping $2.89 trillion! Now, let's dive into why Microsoft is on such a winning streak. It's all about their investment in generative artificial intelligence, folks. They are really pushing the boundaries by integrating incredible AI tools like ChatGPT into their suite of products. It's revolutionizing the tech world! Microsoft is unstoppable right now, and their success is truly well-deserved.\n",
      "\n",
      "* script_3: \n",
      "Hey there, fabulous people! It's your girl again with some exciting news. Today, I have a video packed with awesomeness for you. But before we get into that, let's talk about something beautiful – the pink Apple Watch Series 9. Can we just take a moment to appreciate its subtle yet stunning color? I've been waiting for this for what feels like forever, and now I finally have it in my hands. And guess what? I'll be unboxing it for you right now! But wait, that's not all. We're also going to compare it side by side with the Apple Watch Series 8. So, get ready for all the juicy details on these upgrades. Oh, and have I mentioned this cool carbon-neutral band? I'm obsessed with it! And let's unbox the sport loop style, because you know it's super chic. Alright, time to hook this beauty up and maybe switch out my Series 8 for a little fashion variety. I even got a Nike sport band to spice things up. So, let me know if you want a video where I compare the Apple Watch Series 8 with this stunning Series 9. There's so much to talk about, and I can't wait to hear your thoughts!\n"
     ]
    }
   ]
  },
  {
   "cell_type": "code",
   "source": [
    "scripts"
   ],
   "metadata": {
    "colab": {
     "base_uri": "https://localhost:8080/",
     "height": 127
    },
    "id": "ds0aWqe0FSuq",
    "outputId": "d2e9813e-9572-4476-a073-83cd28de4815"
   },
   "execution_count": 106,
   "outputs": [
    {
     "output_type": "execute_result",
     "data": {
      "text/plain": [
       "\"* script_1: \\nHey there, everyone! Welcome back to my channel. Today, I am beyond excited because the new Apple Watch Series 9 is finally here! And guess what? I got it in the stunning pink color. Trust me, I've been waiting for this moment forever. Let's unbox it together and compare it to the Apple Watch Series 8. But before we dive in, take a look at this new carbon-neutral band. It's absolutely beautiful and environmentally friendly. Let's go for the sport loop style unboxing, because you know, it's always chic. Alright, time to hook this baby up. Oh, and by the way, I'm also switching out my Series 8 for some variety. I mean, who doesn't love matching their watch with different outfits, right? And check out this sleek Nike sport band I got too. So, in my next video, let me know if you want me to compare the Apple Watch Series 8 with this fabulous Series 9. We've got a lot to talk about all these incredible upgrades!\\n\\n* script_2: \\nHey, hey, hey! What's up, my lovely viewers? I have some mind-blowing news to share with you. Drumroll, please! Microsoft has taken the throne from Apple and become the world's most valuable publicly traded company. Can you believe it? Their market capitalization is a whopping $2.89 trillion! Now, let's dive into why Microsoft is on such a winning streak. It's all about their investment in generative artificial intelligence, folks. They are really pushing the boundaries by integrating incredible AI tools like ChatGPT into their suite of products. It's revolutionizing the tech world! Microsoft is unstoppable right now, and their success is truly well-deserved.\\n\\n* script_3: \\nHey there, fabulous people! It's your girl again with some exciting news. Today, I have a video packed with awesomeness for you. But before we get into that, let's talk about something beautiful – the pink Apple Watch Series 9. Can we just take a moment to appreciate its subtle yet stunning color? I've been waiting for this for what feels like forever, and now I finally have it in my hands. And guess what? I'll be unboxing it for you right now! But wait, that's not all. We're also going to compare it side by side with the Apple Watch Series 8. So, get ready for all the juicy details on these upgrades. Oh, and have I mentioned this cool carbon-neutral band? I'm obsessed with it! And let's unbox the sport loop style, because you know it's super chic. Alright, time to hook this beauty up and maybe switch out my Series 8 for a little fashion variety. I even got a Nike sport band to spice things up. So, let me know if you want a video where I compare the Apple Watch Series 8 with this stunning Series 9. There's so much to talk about, and I can't wait to hear your thoughts!\""
      ],
      "application/vnd.google.colaboratory.intrinsic+json": {
       "type": "string"
      }
     },
     "metadata": {},
     "execution_count": 106
    }
   ]
  },
  {
   "cell_type": "code",
   "source": [
    "import re\n",
    "\n",
    "def generate_script_dict(text):\n",
    "    \"\"\"\n",
    "    Generates a dictionary of scripts from a given text.\n",
    "\n",
    "    Parameters:\n",
    "    text (str): A string containing scripts, each starting with '* script_'.\n",
    "\n",
    "    Returns:\n",
    "    dict: A dictionary with each script under a unique key.\n",
    "    \"\"\"\n",
    "    # Splitting the text into separate scripts using '* script_' as a delimiter\n",
    "    split_scripts = re.split(r'\\* script_\\d+: ', text)[1:]\n",
    "\n",
    "    # Initializing an empty dictionary\n",
    "    scripts = {}\n",
    "\n",
    "    # Assigning scripts to the dictionary\n",
    "    for i, script in enumerate(split_scripts):\n",
    "        key = f'script_{i+1}'\n",
    "        scripts[key] = script.strip()  # Remove leading/trailing whitespace\n",
    "\n",
    "    return scripts\n"
   ],
   "metadata": {
    "id": "XuEx8mu_Dl6K"
   },
   "execution_count": 107,
   "outputs": []
  },
  {
   "cell_type": "code",
   "source": [
    "scripts_dict = generate_script_dict(scripts)\n",
    "scripts_dict"
   ],
   "metadata": {
    "colab": {
     "base_uri": "https://localhost:8080/"
    },
    "id": "i_nnWohfD9cT",
    "outputId": "e39eb39a-df08-4e77-d8d5-7b44e8a852c4"
   },
   "execution_count": 108,
   "outputs": [
    {
     "output_type": "execute_result",
     "data": {
      "text/plain": [
       "{'script_1': \"Hey there, everyone! Welcome back to my channel. Today, I am beyond excited because the new Apple Watch Series 9 is finally here! And guess what? I got it in the stunning pink color. Trust me, I've been waiting for this moment forever. Let's unbox it together and compare it to the Apple Watch Series 8. But before we dive in, take a look at this new carbon-neutral band. It's absolutely beautiful and environmentally friendly. Let's go for the sport loop style unboxing, because you know, it's always chic. Alright, time to hook this baby up. Oh, and by the way, I'm also switching out my Series 8 for some variety. I mean, who doesn't love matching their watch with different outfits, right? And check out this sleek Nike sport band I got too. So, in my next video, let me know if you want me to compare the Apple Watch Series 8 with this fabulous Series 9. We've got a lot to talk about all these incredible upgrades!\",\n",
       " 'script_2': \"Hey, hey, hey! What's up, my lovely viewers? I have some mind-blowing news to share with you. Drumroll, please! Microsoft has taken the throne from Apple and become the world's most valuable publicly traded company. Can you believe it? Their market capitalization is a whopping $2.89 trillion! Now, let's dive into why Microsoft is on such a winning streak. It's all about their investment in generative artificial intelligence, folks. They are really pushing the boundaries by integrating incredible AI tools like ChatGPT into their suite of products. It's revolutionizing the tech world! Microsoft is unstoppable right now, and their success is truly well-deserved.\",\n",
       " 'script_3': \"Hey there, fabulous people! It's your girl again with some exciting news. Today, I have a video packed with awesomeness for you. But before we get into that, let's talk about something beautiful – the pink Apple Watch Series 9. Can we just take a moment to appreciate its subtle yet stunning color? I've been waiting for this for what feels like forever, and now I finally have it in my hands. And guess what? I'll be unboxing it for you right now! But wait, that's not all. We're also going to compare it side by side with the Apple Watch Series 8. So, get ready for all the juicy details on these upgrades. Oh, and have I mentioned this cool carbon-neutral band? I'm obsessed with it! And let's unbox the sport loop style, because you know it's super chic. Alright, time to hook this beauty up and maybe switch out my Series 8 for a little fashion variety. I even got a Nike sport band to spice things up. So, let me know if you want a video where I compare the Apple Watch Series 8 with this stunning Series 9. There's so much to talk about, and I can't wait to hear your thoughts!\"}"
      ]
     },
     "metadata": {},
     "execution_count": 108
    }
   ]
  },
  {
   "cell_type": "code",
   "source": [
    "print(scripts_dict['script_3'])"
   ],
   "metadata": {
    "colab": {
     "base_uri": "https://localhost:8080/"
    },
    "id": "MD6h6jo3H9Ew",
    "outputId": "d5493467-f9ef-4819-9dc9-1820a3e76d79"
   },
   "execution_count": 109,
   "outputs": [
    {
     "output_type": "stream",
     "name": "stdout",
     "text": [
      "Hey there, fabulous people! It's your girl again with some exciting news. Today, I have a video packed with awesomeness for you. But before we get into that, let's talk about something beautiful – the pink Apple Watch Series 9. Can we just take a moment to appreciate its subtle yet stunning color? I've been waiting for this for what feels like forever, and now I finally have it in my hands. And guess what? I'll be unboxing it for you right now! But wait, that's not all. We're also going to compare it side by side with the Apple Watch Series 8. So, get ready for all the juicy details on these upgrades. Oh, and have I mentioned this cool carbon-neutral band? I'm obsessed with it! And let's unbox the sport loop style, because you know it's super chic. Alright, time to hook this beauty up and maybe switch out my Series 8 for a little fashion variety. I even got a Nike sport band to spice things up. So, let me know if you want a video where I compare the Apple Watch Series 8 with this stunning Series 9. There's so much to talk about, and I can't wait to hear your thoughts!\n"
     ]
    }
   ]
  },
  {
   "cell_type": "code",
   "source": [
    "# Define the paths to your files\n",
    "d_id_api_key_path = '/content/drive/MyDrive/BOOTCAMP/d_id/b_id_key.txt'\n",
    "\n",
    "# Read the API key\n",
    "with open(d_id_api_key_path, 'r') as file:\n",
    "    d_id_api_key = file.read().strip()"
   ],
   "metadata": {
    "id": "oBgOz2C6TszA"
   },
   "execution_count": 110,
   "outputs": []
  },
  {
   "cell_type": "code",
   "source": [
    "d_id_api_key"
   ],
   "metadata": {
    "colab": {
     "base_uri": "https://localhost:8080/",
     "height": 36
    },
    "id": "yoS7gVusUB5D",
    "outputId": "86fe10de-ea32-457b-e3a9-87ea2518bf09"
   },
   "execution_count": 111,
   "outputs": [
    {
     "output_type": "execute_result",
     "data": {
      "text/plain": [
       "'am9yZ2UuZ2FyY2lhLm1hcnRpbkBzdHVkZW50LmllLmVkdQ:Tr1R5mGUIV9nj8rUzA_ML'"
      ],
      "application/vnd.google.colaboratory.intrinsic+json": {
       "type": "string"
      }
     },
     "metadata": {},
     "execution_count": 111
    }
   ]
  },
  {
   "cell_type": "code",
   "source": [
    "import requests\n",
    "\n",
    "url = \"https://api.d-id.com/talks\"\n",
    "\n",
    "payload = {\n",
    "    \"source_url\": \"/content/drive/MyDrive/BOOTCAMP/image/torriwebster.jpg\",\n",
    "    \"driver_url\": \"bank://natural\",\n",
    "    \"script\": {\n",
    "        \"type\": \"text\",\n",
    "        \"subtitles\": True,\n",
    "        \"provider\": {\n",
    "            \"type\": \"microsoft\",\n",
    "            \"voice_id\": \"en-US-JennyNeural\",\n",
    "            \"voice_config\": {\n",
    "                \"style\": \"string\",\n",
    "                \"rate\": \"0.5\",\n",
    "                \"pitch\": \"+2st\"\n",
    "            }\n",
    "        },\n",
    "        \"input\": scripts_dict['script_3'],\n",
    "        \"ssml\": True\n",
    "    },\n",
    "    \"config\": {\n",
    "        \"logo\": {\n",
    "            \"url\": \"string\",\n",
    "            \"position\": [0, 500]\n",
    "        },\n",
    "        \"align_driver\": True,\n",
    "        \"align_expand_factor\": 0,\n",
    "        \"auto_match\": True,\n",
    "        \"motion_factor\": 0,\n",
    "        \"normalization_factor\": 0,\n",
    "        \"sharpen\": True,\n",
    "        \"stitch\": True,\n",
    "        \"result_format\": \"mp4\",\n",
    "        \"fluent\": True,\n",
    "        \"pad_audio\": 0,\n",
    "        \"driver_expressions\": {\n",
    "            \"expressions\": [\n",
    "                {\n",
    "                    \"start_frame\": 0,\n",
    "                    \"expression\": \"neutral\",\n",
    "                    \"intensity\": 0\n",
    "                }\n",
    "            ],\n",
    "            \"transition_frames\": 0\n",
    "        }\n",
    "    },\n",
    "    \"user_data\": \"string\",\n",
    "    \"name\": \"string\",\n",
    "    \"webhook\": \"https://host.domain.tld/to/webhook\",\n",
    "    \"result_url\": \"/content/drive/MyDrive/BOOTCAMP/video\",\n",
    "    \"face\": {\n",
    "        \"top_left\": [0, 0],\n",
    "        \"size\": 512\n",
    "    },\n",
    "    \"persist\": True\n",
    "}\n",
    "headers = {\n",
    "    \"accept\": \"application/json\",\n",
    "    \"Authorization\" : d_id_api_key,\n",
    "    \"content-type\": \"application/json\"\n",
    "}\n",
    "\n",
    "response = requests.post(url, json=payload, headers=headers)\n",
    "\n",
    "print(response.text)"
   ],
   "metadata": {
    "colab": {
     "base_uri": "https://localhost:8080/"
    },
    "id": "5_PsR3guQtT_",
    "outputId": "8422d062-b2e4-4054-91c5-ce2406d1315c"
   },
   "execution_count": 118,
   "outputs": [
    {
     "output_type": "stream",
     "name": "stdout",
     "text": [
      "{\"message\":\"Unauthorized\"}\n"
     ]
    }
   ]
  }
 ]
}
